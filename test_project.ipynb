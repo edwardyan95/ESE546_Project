{
 "cells": [
  {
   "cell_type": "code",
   "execution_count": 1,
   "metadata": {},
   "outputs": [],
   "source": [
    "import torch.nn as nn\n",
    "import torch\n",
    "import math\n",
    "import matplotlib.pyplot as plt\n",
    "from pathlib import Path\n",
    "import pprint\n",
    "import numpy as np\n",
    "import pandas as pd\n",
    "import os\n",
    "from sklearn.decomposition import PCA\n",
    "from dataset import *\n",
    "import random\n",
    "from train import *\n",
    "from sklearn.cross_decomposition import CCA"
   ]
  },
  {
   "cell_type": "code",
   "execution_count": 2,
   "metadata": {},
   "outputs": [],
   "source": [
    "from allensdk.core.brain_observatory_cache import BrainObservatoryCache"
   ]
  },
  {
   "cell_type": "code",
   "execution_count": 3,
   "metadata": {},
   "outputs": [
    {
     "name": "stdout",
     "output_type": "stream",
     "text": [
      "all targeted structures: ['VISal', 'VISam', 'VISl', 'VISp', 'VISpm', 'VISrl']\n"
     ]
    }
   ],
   "source": [
    "output_dir = '.'\n",
    "boc =  BrainObservatoryCache(\n",
    "    manifest_file=str(Path(output_dir) / 'brain_observatory_manifest.json'))\n",
    "targeted_structures = boc.get_all_targeted_structures()\n",
    "print(\"all targeted structures: \" + str(targeted_structures))"
   ]
  },
  {
   "cell_type": "code",
   "execution_count": 4,
   "metadata": {},
   "outputs": [
    {
     "name": "stdout",
     "output_type": "stream",
     "text": [
      "all cre lines:\n",
      "\n",
      "['Cux2-CreERT2',\n",
      " 'Emx1-IRES-Cre',\n",
      " 'Fezf2-CreER',\n",
      " 'Nr5a1-Cre',\n",
      " 'Ntsr1-Cre_GN220',\n",
      " 'Pvalb-IRES-Cre',\n",
      " 'Rbp4-Cre_KL100',\n",
      " 'Rorb-IRES2-Cre',\n",
      " 'Scnn1a-Tg3-Cre',\n",
      " 'Slc17a7-IRES2-Cre',\n",
      " 'Sst-IRES-Cre',\n",
      " 'Tlx3-Cre_PL56',\n",
      " 'Vip-IRES-Cre']\n"
     ]
    }
   ],
   "source": [
    "# Download a list of all cre driver lines \n",
    "cre_lines = boc.get_all_cre_lines()\n",
    "print(\"all cre lines:\\n\")\n",
    "pprint.pprint(cre_lines)\n",
    "cre_lines_to_use = [\n",
    "    'Cux2-CreERT2',\n",
    "    'Emx1-IRES-Cre',\n",
    "    'Fezf2-CreER',\n",
    "    'Nr5a1-Cre',\n",
    "    'Ntsr1-Cre_GN220',\n",
    "    'Rbp4-Cre_KL100',\n",
    "    'Rorb-IRES2-Cre',\n",
    "    'Scnn1a-Tg3-Cre',\n",
    "    'Slc17a7-IRES2-Cre',\n",
    "    'Tlx3-Cre_PL56',\n",
    "]"
   ]
  },
  {
   "cell_type": "markdown",
   "metadata": {},
   "source": [
    "Download Experiments for a Container\n",
    "\n",
    "An experiment container is a group of experiments. Each experiment has a different stimulus protocol. For example, one experiment protocol contains the static gratings stimulus and another has the natural scenes stimulus. The BrainObservatoryCache helps you find out which experiment associated with a container has the stimuli you are interested in. First, let's see what experiments are available for a single container."
   ]
  },
  {
   "cell_type": "markdown",
   "metadata": {},
   "source": [
    "The session_type field indicates which experimental protocol was used. If you just want to find which experiment contains the static gratings stimulus, you can do the following:"
   ]
  },
  {
   "cell_type": "code",
   "execution_count": 5,
   "metadata": {},
   "outputs": [],
   "source": [
    "# import allensdk.brain_observatory.stimulus_info as stim_info\n",
    "\n",
    "# # pick one of the cux2 experiment containers\n",
    "# cux2_ec_id = cux2_ecs[-1]['id']\n",
    "\n",
    "# # Find the experiment with the static static gratings stimulus\n",
    "# exp = boc.get_ophys_experiments(experiment_container_ids=[cux2_ec_id], \n",
    "#                                 stimuli=[stim_info.STATIC_GRATINGS])[0]\n",
    "# print(\"Experiment with static gratings:\")\n",
    "# pprint.pprint(exp)"
   ]
  },
  {
   "cell_type": "markdown",
   "metadata": {},
   "source": [
    "Now we can download the NWB file for this experiment."
   ]
  },
  {
   "cell_type": "code",
   "execution_count": 5,
   "metadata": {},
   "outputs": [
    {
     "data": {
      "text/plain": [
       "94"
      ]
     },
     "execution_count": 5,
     "metadata": {},
     "output_type": "execute_result"
    }
   ],
   "source": [
    "exps = get_exps(boc, cre_lines=cre_lines_to_use, targeted_structures=['VISp'], session_types=['three_session_B'])\n",
    "len(exps)\n"
   ]
  },
  {
   "cell_type": "code",
   "execution_count": 13,
   "metadata": {},
   "outputs": [
    {
     "data": {
      "text/plain": [
       "84"
      ]
     },
     "execution_count": 13,
     "metadata": {},
     "output_type": "execute_result"
    }
   ],
   "source": [
    "numCell = []\n",
    "for exp in exps:\n",
    "    data_set = boc.get_ophys_experiment_data(exp['id'])\n",
    "    cids = data_set.get_cell_specimen_ids()\n",
    "    numCell.append(len(cids))\n",
    "np.argmax(numCell)\n"
   ]
  },
  {
   "cell_type": "code",
   "execution_count": 30,
   "metadata": {},
   "outputs": [
    {
     "data": {
      "text/plain": [
       "20"
      ]
     },
     "execution_count": 30,
     "metadata": {},
     "output_type": "execute_result"
    }
   ],
   "source": [
    "numCell[4]"
   ]
  },
  {
   "cell_type": "code",
   "execution_count": 6,
   "metadata": {},
   "outputs": [],
   "source": [
    "pre = 15\n",
    "post = 7\n",
    "dataset = prep_dataset(boc, exps[22:23], pre, post, data_type='dff')"
   ]
  },
  {
   "cell_type": "code",
   "execution_count": null,
   "metadata": {},
   "outputs": [],
   "source": [
    "data2plot = 100000\n",
    "ax = plot_traces(dataset['model_input'][data2plot].numpy(), np.arange(45), input_type='pca', figsize=(2,10))\n",
    "ax.set_title(f\"image#{dataset['model_labels'][data2plot].numpy()}\")\n",
    "ax.axvline(x = 30, color = 'r', linestyle = '--')"
   ]
  },
  {
   "cell_type": "markdown",
   "metadata": {},
   "source": [
    "test code for training"
   ]
  },
  {
   "cell_type": "code",
   "execution_count": 68,
   "metadata": {},
   "outputs": [],
   "source": [
    "rand_idx = np.random.permutation(len(dataset['model_input']))\n",
    "num_training_sample = int(len(dataset['model_input'])*0.7)\n",
    "train_idx = rand_idx[:num_training_sample]\n",
    "test_idx = rand_idx[num_training_sample:]\n",
    "train_dataset = {'model_input' :[dataset['model_input'][i] for i in train_idx],\n",
    "                    'model_labels':[dataset['model_labels'][i] for i in train_idx]\n",
    "                }\n",
    "test_dataset = {'model_input' :[dataset['model_input'][i] for i in test_idx],\n",
    "                    'model_labels':[dataset['model_labels'][i] for i in test_idx]\n",
    "                }"
   ]
  },
  {
   "cell_type": "code",
   "execution_count": 6,
   "metadata": {},
   "outputs": [
    {
     "name": "stdout",
     "output_type": "stream",
     "text": [
      "num of cell: 331\n",
      "num comp: 20, explained variance: 0.67\n"
     ]
    },
    {
     "data": {
      "text/plain": [
       "(20, 178500)"
      ]
     },
     "execution_count": 6,
     "metadata": {},
     "output_type": "execute_result"
    }
   ],
   "source": [
    "pca_comp = 20\n",
    "exp = exps[19]\n",
    "meta = boc.get_ophys_experiment_data(exp['id']).get_metadata()\n",
    "cellnum = len(boc.get_ophys_experiment_data(exp['id']).get_cell_specimen_ids())\n",
    "print(f'num of cell: {cellnum}')\n",
    "pre = 15\n",
    "post = 7\n",
    "dff = get_fluo(boc, exp)\n",
    "pca_dff, explained_var = pca_and_pad(dff, num_comp=pca_comp)\n",
    "print(f'num comp: {pca_comp}, explained variance: {explained_var:.2f}')\n",
    "stim_df = get_stim_df(boc, exp, stimulus_name='natural_scenes')\n",
    "ref_data, ref_labels = extract_data_by_images(pca_dff, stim_df, pre, post)\n",
    "ref_labels  = [118 if x == -1 else x for x in ref_labels]\n",
    "sort_idx = np.argsort(ref_labels)\n",
    "sort_data = [ref_data[i] for i in sort_idx]\n",
    "sort_labels = [ref_labels[i] for i in sort_idx]\n",
    "# sampled_data = []\n",
    "# for i in range(119):\n",
    "#     sampled_data = sampled_data + sort_data[i*50:i*50+20]\n",
    "ref_concat_data = np.concatenate(sort_data, axis=1)\n",
    "ref_concat_data.shape"
   ]
  },
  {
   "cell_type": "code",
   "execution_count": 7,
   "metadata": {},
   "outputs": [
    {
     "name": "stdout",
     "output_type": "stream",
     "text": [
      "num of cell: 249\n",
      "num comp: 20, explained variance: 0.33\n"
     ]
    },
    {
     "data": {
      "text/plain": [
       "(20, 178500)"
      ]
     },
     "execution_count": 7,
     "metadata": {},
     "output_type": "execute_result"
    }
   ],
   "source": [
    "pca_comp = 20\n",
    "exp = exps[3]\n",
    "meta = boc.get_ophys_experiment_data(exp['id']).get_metadata()\n",
    "cellnum = len(boc.get_ophys_experiment_data(exp['id']).get_cell_specimen_ids())\n",
    "print(f'num of cell: {cellnum}')\n",
    "pre = 15\n",
    "post = 7\n",
    "dff = get_fluo(boc, exp)\n",
    "pca_dff, explained_var = pca_and_pad(dff, num_comp=pca_comp)\n",
    "print(f'num comp: {pca_comp}, explained variance: {explained_var:.2f}')\n",
    "stim_df = get_stim_df(boc, exp, stimulus_name='natural_scenes')\n",
    "data, labels = extract_data_by_images(pca_dff, stim_df, pre, post)\n",
    "labels  = [118 if x == -1 else x for x in labels]\n",
    "sort_idx = np.argsort(labels)\n",
    "sort_data = [data[i] for i in sort_idx]\n",
    "sort_labels = [labels[i] for i in sort_idx]\n",
    "# sampled_data = []\n",
    "# for i in range(119):\n",
    "#     sampled_data = sampled_data + sort_data[i*50:i*50+20]\n",
    "concat_data = np.concatenate(sort_data, axis=1)\n",
    "concat_data.shape"
   ]
  },
  {
   "cell_type": "code",
   "execution_count": 8,
   "metadata": {},
   "outputs": [
    {
     "data": {
      "text/plain": [
       "0.00091427237905062"
      ]
     },
     "execution_count": 8,
     "metadata": {},
     "output_type": "execute_result"
    }
   ],
   "source": [
    "pca_comp_corr = []\n",
    "for i in range(concat_data.shape[0]):\n",
    "    pca_comp_corr.append(np.corrcoef(ref_concat_data[i,:], concat_data[i,:])[0,1])\n",
    "np.mean(pca_comp_corr)"
   ]
  },
  {
   "cell_type": "code",
   "execution_count": 9,
   "metadata": {},
   "outputs": [],
   "source": [
    "cca = CCA(n_components=ref_concat_data.shape[0])\n",
    "\n",
    "cca.fit(ref_concat_data.T, concat_data.T)\n",
    "\n",
    "trans_data = concat_data.T.dot(cca.y_rotations_).dot(np.linalg.inv(cca.x_rotations_)).T"
   ]
  },
  {
   "cell_type": "code",
   "execution_count": 10,
   "metadata": {},
   "outputs": [],
   "source": [
    "return_data, return_labels = cca_align(ref_data, ref_labels, data, labels)"
   ]
  },
  {
   "cell_type": "code",
   "execution_count": 12,
   "metadata": {},
   "outputs": [
    {
     "data": {
      "text/plain": [
       "5950"
      ]
     },
     "execution_count": 12,
     "metadata": {},
     "output_type": "execute_result"
    }
   ],
   "source": [
    "len(return_data)"
   ]
  },
  {
   "cell_type": "code",
   "execution_count": null,
   "metadata": {},
   "outputs": [],
   "source": [
    "plot_traces(trans_data, x_range=range(2000), input_type='pca',figsize=(5,5))"
   ]
  },
  {
   "cell_type": "code",
   "execution_count": 11,
   "metadata": {},
   "outputs": [
    {
     "data": {
      "text/plain": [
       "0.027901439423242202"
      ]
     },
     "execution_count": 11,
     "metadata": {},
     "output_type": "execute_result"
    }
   ],
   "source": [
    "pca_comp_corr = []\n",
    "for i in range(concat_data.shape[0]):\n",
    "    pca_comp_corr.append(np.corrcoef(ref_concat_data[i,:], trans_data[i,:])[0,1])\n",
    "np.mean(pca_comp_corr)"
   ]
  }
 ],
 "metadata": {
  "kernelspec": {
   "display_name": "Python 3",
   "language": "python",
   "name": "python3"
  },
  "language_info": {
   "codemirror_mode": {
    "name": "ipython",
    "version": 3
   },
   "file_extension": ".py",
   "mimetype": "text/x-python",
   "name": "python",
   "nbconvert_exporter": "python",
   "pygments_lexer": "ipython3",
   "version": "3.10.12"
  },
  "orig_nbformat": 4
 },
 "nbformat": 4,
 "nbformat_minor": 2
}
