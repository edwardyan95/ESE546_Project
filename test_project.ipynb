{
 "cells": [
  {
   "cell_type": "code",
   "execution_count": 1,
   "metadata": {},
   "outputs": [],
   "source": [
    "import torch.nn as nn\n",
    "import torch\n",
    "import math\n",
    "import matplotlib.pyplot as plt\n",
    "from pathlib import Path\n",
    "import pprint\n",
    "import numpy as np\n",
    "import pandas as pd\n",
    "import os\n",
    "from sklearn.decomposition import PCA\n",
    "from dataset import *"
   ]
  },
  {
   "cell_type": "code",
   "execution_count": 2,
   "metadata": {},
   "outputs": [],
   "source": [
    "from allensdk.core.brain_observatory_cache import BrainObservatoryCache"
   ]
  },
  {
   "cell_type": "code",
   "execution_count": 3,
   "metadata": {},
   "outputs": [
    {
     "name": "stdout",
     "output_type": "stream",
     "text": [
      "all targeted structures: ['VISal', 'VISam', 'VISl', 'VISp', 'VISpm', 'VISrl']\n"
     ]
    }
   ],
   "source": [
    "output_dir = '.'\n",
    "boc =  BrainObservatoryCache(\n",
    "    manifest_file=str(Path(output_dir) / 'brain_observatory_manifest.json'))\n",
    "targeted_structures = boc.get_all_targeted_structures()\n",
    "print(\"all targeted structures: \" + str(targeted_structures))"
   ]
  },
  {
   "cell_type": "code",
   "execution_count": 4,
   "metadata": {},
   "outputs": [
    {
     "name": "stdout",
     "output_type": "stream",
     "text": [
      "all cre lines:\n",
      "\n",
      "['Cux2-CreERT2',\n",
      " 'Emx1-IRES-Cre',\n",
      " 'Fezf2-CreER',\n",
      " 'Nr5a1-Cre',\n",
      " 'Ntsr1-Cre_GN220',\n",
      " 'Pvalb-IRES-Cre',\n",
      " 'Rbp4-Cre_KL100',\n",
      " 'Rorb-IRES2-Cre',\n",
      " 'Scnn1a-Tg3-Cre',\n",
      " 'Slc17a7-IRES2-Cre',\n",
      " 'Sst-IRES-Cre',\n",
      " 'Tlx3-Cre_PL56',\n",
      " 'Vip-IRES-Cre']\n"
     ]
    }
   ],
   "source": [
    "# Download a list of all cre driver lines \n",
    "cre_lines = boc.get_all_cre_lines()\n",
    "print(\"all cre lines:\\n\")\n",
    "pprint.pprint(cre_lines)\n",
    "cre_lines_to_use = [\n",
    "    'Cux2-CreERT2',\n",
    "    'Emx1-IRES-Cre',\n",
    "    'Fezf2-CreER',\n",
    "    'Nr5a1-Cre',\n",
    "    'Ntsr1-Cre_GN220',\n",
    "    'Rbp4-Cre_KL100',\n",
    "    'Rorb-IRES2-Cre',\n",
    "    'Scnn1a-Tg3-Cre',\n",
    "    'Slc17a7-IRES2-Cre',\n",
    "    'Tlx3-Cre_PL56',\n",
    "]"
   ]
  },
  {
   "cell_type": "markdown",
   "metadata": {},
   "source": [
    "Download Experiments for a Container\n",
    "\n",
    "An experiment container is a group of experiments. Each experiment has a different stimulus protocol. For example, one experiment protocol contains the static gratings stimulus and another has the natural scenes stimulus. The BrainObservatoryCache helps you find out which experiment associated with a container has the stimuli you are interested in. First, let's see what experiments are available for a single container."
   ]
  },
  {
   "cell_type": "markdown",
   "metadata": {},
   "source": [
    "The session_type field indicates which experimental protocol was used. If you just want to find which experiment contains the static gratings stimulus, you can do the following:"
   ]
  },
  {
   "cell_type": "code",
   "execution_count": 7,
   "metadata": {},
   "outputs": [],
   "source": [
    "# import allensdk.brain_observatory.stimulus_info as stim_info\n",
    "\n",
    "# # pick one of the cux2 experiment containers\n",
    "# cux2_ec_id = cux2_ecs[-1]['id']\n",
    "\n",
    "# # Find the experiment with the static static gratings stimulus\n",
    "# exp = boc.get_ophys_experiments(experiment_container_ids=[cux2_ec_id], \n",
    "#                                 stimuli=[stim_info.STATIC_GRATINGS])[0]\n",
    "# print(\"Experiment with static gratings:\")\n",
    "# pprint.pprint(exp)"
   ]
  },
  {
   "cell_type": "markdown",
   "metadata": {},
   "source": [
    "Now we can download the NWB file for this experiment."
   ]
  },
  {
   "cell_type": "code",
   "execution_count": 5,
   "metadata": {},
   "outputs": [],
   "source": [
    "exps = get_exps(boc, cre_lines=cre_lines_to_use, targeted_structures=None, session_types=['three_session_B'])"
   ]
  },
  {
   "cell_type": "code",
   "execution_count": 6,
   "metadata": {},
   "outputs": [
    {
     "name": "stdout",
     "output_type": "stream",
     "text": [
      "total cells: 63251\n"
     ]
    }
   ],
   "source": [
    "cells = boc.get_cell_specimens() # initiate cells object. it includes properties of all neurons recorded, including orientation selectivity, etc.\n",
    "cells = pd.DataFrame.from_records(cells)\n",
    "print(\"total cells: %d\" % len(cells))"
   ]
  },
  {
   "cell_type": "code",
   "execution_count": 10,
   "metadata": {},
   "outputs": [],
   "source": [
    "# # for downloading all defined experiment sessions\n",
    "# cellnum = []\n",
    "# for exp in exps:\n",
    "#     data_set = boc.get_ophys_experiment_data(exp['id'])\n",
    "#     cellnum.append(len(data_set.get_cell_specimen_ids()))\n",
    "\n",
    "# # print out the metadata available in the NWB file\n",
    "# #pprint.pprint(data_set.get_metadata())\n",
    "# cells = boc.get_cell_specimens() # initiate cells object. it includes properties of all neurons recorded, including orientation selectivity, etc.\n",
    "# cells = pd.DataFrame.from_records(cells)\n",
    "# print(\"total cells: %d\" % len(cells))"
   ]
  },
  {
   "cell_type": "code",
   "execution_count": 7,
   "metadata": {},
   "outputs": [
    {
     "name": "stdout",
     "output_type": "stream",
     "text": [
      "120\n"
     ]
    }
   ],
   "source": [
    "session_data = boc.get_ophys_experiment_data(exps[22]['id'])\n",
    "session_metadata = session_data.get_metadata()\n",
    "print(len(session_data.get_cell_specimen_ids()))"
   ]
  },
  {
   "cell_type": "code",
   "execution_count": 8,
   "metadata": {},
   "outputs": [
    {
     "data": {
      "text/plain": [
       "(120, 113873)"
      ]
     },
     "execution_count": 8,
     "metadata": {},
     "output_type": "execute_result"
    }
   ],
   "source": [
    "dFF = get_fluo(boc, exps[22])\n",
    "dFF.shape"
   ]
  },
  {
   "cell_type": "code",
   "execution_count": null,
   "metadata": {},
   "outputs": [],
   "source": [
    "ax_dFF = plot_traces(dFF,np.arange(0,3000), 'Neuron', figsize = [10,10])"
   ]
  },
  {
   "cell_type": "code",
   "execution_count": 9,
   "metadata": {},
   "outputs": [
    {
     "data": {
      "text/html": [
       "<div>\n",
       "<style scoped>\n",
       "    .dataframe tbody tr th:only-of-type {\n",
       "        vertical-align: middle;\n",
       "    }\n",
       "\n",
       "    .dataframe tbody tr th {\n",
       "        vertical-align: top;\n",
       "    }\n",
       "\n",
       "    .dataframe thead th {\n",
       "        text-align: right;\n",
       "    }\n",
       "</style>\n",
       "<table border=\"1\" class=\"dataframe\">\n",
       "  <thead>\n",
       "    <tr style=\"text-align: right;\">\n",
       "      <th></th>\n",
       "      <th>frame</th>\n",
       "      <th>start</th>\n",
       "      <th>end</th>\n",
       "    </tr>\n",
       "  </thead>\n",
       "  <tbody>\n",
       "    <tr>\n",
       "      <th>0</th>\n",
       "      <td>26</td>\n",
       "      <td>16103</td>\n",
       "      <td>16110</td>\n",
       "    </tr>\n",
       "    <tr>\n",
       "      <th>1</th>\n",
       "      <td>32</td>\n",
       "      <td>16110</td>\n",
       "      <td>16117</td>\n",
       "    </tr>\n",
       "    <tr>\n",
       "      <th>2</th>\n",
       "      <td>10</td>\n",
       "      <td>16118</td>\n",
       "      <td>16125</td>\n",
       "    </tr>\n",
       "    <tr>\n",
       "      <th>3</th>\n",
       "      <td>63</td>\n",
       "      <td>16125</td>\n",
       "      <td>16132</td>\n",
       "    </tr>\n",
       "    <tr>\n",
       "      <th>4</th>\n",
       "      <td>20</td>\n",
       "      <td>16133</td>\n",
       "      <td>16140</td>\n",
       "    </tr>\n",
       "    <tr>\n",
       "      <th>...</th>\n",
       "      <td>...</td>\n",
       "      <td>...</td>\n",
       "      <td>...</td>\n",
       "    </tr>\n",
       "    <tr>\n",
       "      <th>5945</th>\n",
       "      <td>103</td>\n",
       "      <td>96073</td>\n",
       "      <td>96080</td>\n",
       "    </tr>\n",
       "    <tr>\n",
       "      <th>5946</th>\n",
       "      <td>81</td>\n",
       "      <td>96081</td>\n",
       "      <td>96088</td>\n",
       "    </tr>\n",
       "    <tr>\n",
       "      <th>5947</th>\n",
       "      <td>36</td>\n",
       "      <td>96088</td>\n",
       "      <td>96095</td>\n",
       "    </tr>\n",
       "    <tr>\n",
       "      <th>5948</th>\n",
       "      <td>9</td>\n",
       "      <td>96096</td>\n",
       "      <td>96103</td>\n",
       "    </tr>\n",
       "    <tr>\n",
       "      <th>5949</th>\n",
       "      <td>107</td>\n",
       "      <td>96103</td>\n",
       "      <td>96110</td>\n",
       "    </tr>\n",
       "  </tbody>\n",
       "</table>\n",
       "<p>5950 rows × 3 columns</p>\n",
       "</div>"
      ],
      "text/plain": [
       "      frame  start    end\n",
       "0        26  16103  16110\n",
       "1        32  16110  16117\n",
       "2        10  16118  16125\n",
       "3        63  16125  16132\n",
       "4        20  16133  16140\n",
       "...     ...    ...    ...\n",
       "5945    103  96073  96080\n",
       "5946     81  96081  96088\n",
       "5947     36  96088  96095\n",
       "5948      9  96096  96103\n",
       "5949    107  96103  96110\n",
       "\n",
       "[5950 rows x 3 columns]"
      ]
     },
     "execution_count": 9,
     "metadata": {},
     "output_type": "execute_result"
    }
   ],
   "source": [
    "session_stim = get_stim_df(boc, exps[22], stimulus_name='natural_scenes')\n",
    "session_stim"
   ]
  },
  {
   "cell_type": "code",
   "execution_count": 28,
   "metadata": {},
   "outputs": [
    {
     "data": {
      "text/plain": [
       "119"
      ]
     },
     "execution_count": 28,
     "metadata": {},
     "output_type": "execute_result"
    }
   ],
   "source": [
    "len(set(session_stim['frame'].to_numpy()))"
   ]
  },
  {
   "cell_type": "code",
   "execution_count": 10,
   "metadata": {},
   "outputs": [],
   "source": [
    "pca_dff, recon_dff = pca_and_pad(dFF)"
   ]
  },
  {
   "cell_type": "code",
   "execution_count": 12,
   "metadata": {},
   "outputs": [
    {
     "data": {
      "text/plain": [
       "(50, 45)"
      ]
     },
     "execution_count": 12,
     "metadata": {},
     "output_type": "execute_result"
    }
   ],
   "source": [
    "prefix_frame = 30\n",
    "natural_scene_data, labels = extract_data_by_images(pca_dff, session_stim, pre=prefix_frame, post=7)\n",
    "natural_scene_data[0].shape"
   ]
  },
  {
   "cell_type": "code",
   "execution_count": 17,
   "metadata": {},
   "outputs": [
    {
     "data": {
      "text/plain": [
       "<matplotlib.lines.Line2D at 0x28b6b5a20>"
      ]
     },
     "execution_count": 17,
     "metadata": {},
     "output_type": "execute_result"
    },
    {
     "data": {
      "image/png": "[encoded data removed]",
      "text/plain": [
       "<Figure size 200x1000 with 1 Axes>"
      ]
     },
     "metadata": {},
     "output_type": "display_data"
    }
   ],
   "source": [
    "id = 4\n",
    "ax = plot_traces(natural_scene_data[id],np.arange(0,natural_scene_data[id].shape[1]), 'Neuron', figsize=(2,10))\n",
    "ax.set_title(f'image#{labels[id]}')\n",
    "ax.axvline(x = prefix_frame, color = 'r', linestyle = '--')"
   ]
  },
  {
   "cell_type": "code",
   "execution_count": null,
   "metadata": {},
   "outputs": [],
   "source": [
    "\n",
    "ax1 = plot_traces(pca_dff, np.arange(0,3000), input_type='pca')\n",
    "ax2 = plot_traces(recon_dff, np.arange(0,3000), input_type='recon dff')\n",
    "ax2.get_figure().savefig('recon_dff.png')\n",
    "ax_dFF.get_figure().savefig('orig_dff.png')"
   ]
  },
  {
   "cell_type": "code",
   "execution_count": null,
   "metadata": {},
   "outputs": [],
   "source": []
  },
  {
   "cell_type": "code",
   "execution_count": 12,
   "metadata": {},
   "outputs": [
    {
     "name": "stdout",
     "output_type": "stream",
     "text": [
      "120\n"
     ]
    }
   ],
   "source": [
    "session_cell_ids = session_data.get_cell_specimen_ids()\n",
    "print(len(session_cell_ids))\n",
    "session_cell_info = cells[cells['cell_specimen_id'].isin(session_cell_ids)]"
   ]
  },
  {
   "cell_type": "code",
   "execution_count": 13,
   "metadata": {},
   "outputs": [],
   "source": [
    "session_timestamps = session_data.get_fluorescence_timestamps()"
   ]
  },
  {
   "cell_type": "code",
   "execution_count": 14,
   "metadata": {},
   "outputs": [
    {
     "data": {
      "text/plain": [
       "True"
      ]
     },
     "execution_count": 14,
     "metadata": {},
     "output_type": "execute_result"
    }
   ],
   "source": [
    "session_stim_epoch = session_data.get_stimulus_epoch_table()\n",
    "'natural_scenes' in session_stim_epoch['stimulus'].values"
   ]
  },
  {
   "cell_type": "code",
   "execution_count": 132,
   "metadata": {},
   "outputs": [
    {
     "data": {
      "text/html": [
       "<div>\n",
       "<style scoped>\n",
       "    .dataframe tbody tr th:only-of-type {\n",
       "        vertical-align: middle;\n",
       "    }\n",
       "\n",
       "    .dataframe tbody tr th {\n",
       "        vertical-align: top;\n",
       "    }\n",
       "\n",
       "    .dataframe thead th {\n",
       "        text-align: right;\n",
       "    }\n",
       "</style>\n",
       "<table border=\"1\" class=\"dataframe\">\n",
       "  <thead>\n",
       "    <tr style=\"text-align: right;\">\n",
       "      <th></th>\n",
       "      <th>frame</th>\n",
       "      <th>start</th>\n",
       "      <th>end</th>\n",
       "    </tr>\n",
       "  </thead>\n",
       "  <tbody>\n",
       "    <tr>\n",
       "      <th>0</th>\n",
       "      <td>102</td>\n",
       "      <td>16141</td>\n",
       "      <td>16148</td>\n",
       "    </tr>\n",
       "    <tr>\n",
       "      <th>1</th>\n",
       "      <td>77</td>\n",
       "      <td>16149</td>\n",
       "      <td>16156</td>\n",
       "    </tr>\n",
       "    <tr>\n",
       "      <th>2</th>\n",
       "      <td>73</td>\n",
       "      <td>16156</td>\n",
       "      <td>16163</td>\n",
       "    </tr>\n",
       "    <tr>\n",
       "      <th>3</th>\n",
       "      <td>54</td>\n",
       "      <td>16164</td>\n",
       "      <td>16171</td>\n",
       "    </tr>\n",
       "    <tr>\n",
       "      <th>4</th>\n",
       "      <td>23</td>\n",
       "      <td>16171</td>\n",
       "      <td>16178</td>\n",
       "    </tr>\n",
       "    <tr>\n",
       "      <th>...</th>\n",
       "      <td>...</td>\n",
       "      <td>...</td>\n",
       "      <td>...</td>\n",
       "    </tr>\n",
       "    <tr>\n",
       "      <th>5945</th>\n",
       "      <td>20</td>\n",
       "      <td>96304</td>\n",
       "      <td>96311</td>\n",
       "    </tr>\n",
       "    <tr>\n",
       "      <th>5946</th>\n",
       "      <td>42</td>\n",
       "      <td>96312</td>\n",
       "      <td>96319</td>\n",
       "    </tr>\n",
       "    <tr>\n",
       "      <th>5947</th>\n",
       "      <td>23</td>\n",
       "      <td>96319</td>\n",
       "      <td>96326</td>\n",
       "    </tr>\n",
       "    <tr>\n",
       "      <th>5948</th>\n",
       "      <td>35</td>\n",
       "      <td>96327</td>\n",
       "      <td>96334</td>\n",
       "    </tr>\n",
       "    <tr>\n",
       "      <th>5949</th>\n",
       "      <td>40</td>\n",
       "      <td>96334</td>\n",
       "      <td>96341</td>\n",
       "    </tr>\n",
       "  </tbody>\n",
       "</table>\n",
       "<p>5950 rows × 3 columns</p>\n",
       "</div>"
      ],
      "text/plain": [
       "      frame  start    end\n",
       "0       102  16141  16148\n",
       "1        77  16149  16156\n",
       "2        73  16156  16163\n",
       "3        54  16164  16171\n",
       "4        23  16171  16178\n",
       "...     ...    ...    ...\n",
       "5945     20  96304  96311\n",
       "5946     42  96312  96319\n",
       "5947     23  96319  96326\n",
       "5948     35  96327  96334\n",
       "5949     40  96334  96341\n",
       "\n",
       "[5950 rows x 3 columns]"
      ]
     },
     "execution_count": 132,
     "metadata": {},
     "output_type": "execute_result"
    }
   ],
   "source": [
    "session_stim = session_data.get_stimulus_table(stimulus_name='natural_scenes')\n",
    "session_stim"
   ]
  },
  {
   "cell_type": "code",
   "execution_count": null,
   "metadata": {},
   "outputs": [],
   "source": [
    "_, dFF = session_data.get_dff_traces()\n",
    "fig = plt.figure(figsize=(15,15))\n",
    "numCell = dFF.shape[0]\n",
    "x_range = np.arange(10000, 15000)\n",
    "for i in range(numCell):\n",
    "    data = dFF[i,x_range]+(i)*3\n",
    "    plt.plot(data)\n",
    "    plt.xlabel('timesteps')\n",
    "    plt.yticks(ticks=np.arange(numCell)*3, labels=[str(x+1) for x in np.arange(numCell)])\n",
    "    plt.ylabel('Neuron#')\n",
    "    plt.title('Snippet of Neuron Activity of a recording session')\n",
    "plt.tight_layout()\n",
    "#plt.savefig('Neuron Activity example')\n"
   ]
  },
  {
   "cell_type": "code",
   "execution_count": 152,
   "metadata": {},
   "outputs": [],
   "source": [
    "pca_dff = pca_and_pad(dFF)"
   ]
  },
  {
   "cell_type": "code",
   "execution_count": 154,
   "metadata": {},
   "outputs": [
    {
     "ename": "NameError",
     "evalue": "name 'plot_traces' is not defined",
     "output_type": "error",
     "traceback": [
      "\u001b[0;31m---------------------------------------------------------------------------\u001b[0m",
      "\u001b[0;31mNameError\u001b[0m                                 Traceback (most recent call last)",
      "\u001b[1;32m/Users/yuhaoyan/Documents/MCIT/ESE546_Project/test_project.ipynb Cell 23\u001b[0m line \u001b[0;36m1\n\u001b[0;32m----> <a href='vscode-notebook-cell:/Users/yuhaoyan/Documents/MCIT/ESE546_Project/test_project.ipynb#X44sZmlsZQ%3D%3D?line=0'>1</a>\u001b[0m ax \u001b[39m=\u001b[39m plot_traces(pca_dff)\n",
      "\u001b[0;31mNameError\u001b[0m: name 'plot_traces' is not defined"
     ]
    }
   ],
   "source": [
    "ax = plot_traces(pca_dff)"
   ]
  }
 ],
 "metadata": {
  "kernelspec": {
   "display_name": "Python 3",
   "language": "python",
   "name": "python3"
  },
  "language_info": {
   "codemirror_mode": {
    "name": "ipython",
    "version": 3
   },
   "file_extension": ".py",
   "mimetype": "text/x-python",
   "name": "python",
   "nbconvert_exporter": "python",
   "pygments_lexer": "ipython3",
   "version": "3.10.12"
  },
  "orig_nbformat": 4
 },
 "nbformat": 4,
 "nbformat_minor": 2
}
