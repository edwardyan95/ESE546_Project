{
 "cells": [
  {
   "cell_type": "code",
   "execution_count": 1,
   "metadata": {},
   "outputs": [],
   "source": [
    "import torch.nn as nn\n",
    "import torch\n",
    "import math\n",
    "import matplotlib.pyplot as plt\n",
    "from pathlib import Path\n",
    "import pprint\n",
    "import numpy as np\n",
    "import pandas as pd\n",
    "import os\n",
    "from sklearn.decomposition import PCA\n",
    "from dataset import *\n",
    "import random\n",
    "from train import *"
   ]
  },
  {
   "cell_type": "code",
   "execution_count": 2,
   "metadata": {},
   "outputs": [],
   "source": [
    "from allensdk.core.brain_observatory_cache import BrainObservatoryCache"
   ]
  },
  {
   "cell_type": "code",
   "execution_count": 3,
   "metadata": {},
   "outputs": [
    {
     "name": "stdout",
     "output_type": "stream",
     "text": [
      "all targeted structures: ['VISal', 'VISam', 'VISl', 'VISp', 'VISpm', 'VISrl']\n"
     ]
    }
   ],
   "source": [
    "output_dir = '.'\n",
    "boc =  BrainObservatoryCache(\n",
    "    manifest_file=str(Path(output_dir) / 'brain_observatory_manifest.json'))\n",
    "targeted_structures = boc.get_all_targeted_structures()\n",
    "print(\"all targeted structures: \" + str(targeted_structures))"
   ]
  },
  {
   "cell_type": "code",
   "execution_count": 4,
   "metadata": {},
   "outputs": [
    {
     "name": "stdout",
     "output_type": "stream",
     "text": [
      "all cre lines:\n",
      "\n",
      "['Cux2-CreERT2',\n",
      " 'Emx1-IRES-Cre',\n",
      " 'Fezf2-CreER',\n",
      " 'Nr5a1-Cre',\n",
      " 'Ntsr1-Cre_GN220',\n",
      " 'Pvalb-IRES-Cre',\n",
      " 'Rbp4-Cre_KL100',\n",
      " 'Rorb-IRES2-Cre',\n",
      " 'Scnn1a-Tg3-Cre',\n",
      " 'Slc17a7-IRES2-Cre',\n",
      " 'Sst-IRES-Cre',\n",
      " 'Tlx3-Cre_PL56',\n",
      " 'Vip-IRES-Cre']\n"
     ]
    }
   ],
   "source": [
    "# Download a list of all cre driver lines \n",
    "cre_lines = boc.get_all_cre_lines()\n",
    "print(\"all cre lines:\\n\")\n",
    "pprint.pprint(cre_lines)\n",
    "cre_lines_to_use = [\n",
    "    'Cux2-CreERT2',\n",
    "    'Emx1-IRES-Cre',\n",
    "    'Fezf2-CreER',\n",
    "    'Nr5a1-Cre',\n",
    "    'Ntsr1-Cre_GN220',\n",
    "    'Rbp4-Cre_KL100',\n",
    "    'Rorb-IRES2-Cre',\n",
    "    'Scnn1a-Tg3-Cre',\n",
    "    'Slc17a7-IRES2-Cre',\n",
    "    'Tlx3-Cre_PL56',\n",
    "]"
   ]
  },
  {
   "cell_type": "markdown",
   "metadata": {},
   "source": [
    "Download Experiments for a Container\n",
    "\n",
    "An experiment container is a group of experiments. Each experiment has a different stimulus protocol. For example, one experiment protocol contains the static gratings stimulus and another has the natural scenes stimulus. The BrainObservatoryCache helps you find out which experiment associated with a container has the stimuli you are interested in. First, let's see what experiments are available for a single container."
   ]
  },
  {
   "cell_type": "markdown",
   "metadata": {},
   "source": [
    "The session_type field indicates which experimental protocol was used. If you just want to find which experiment contains the static gratings stimulus, you can do the following:"
   ]
  },
  {
   "cell_type": "code",
   "execution_count": 5,
   "metadata": {},
   "outputs": [],
   "source": [
    "# import allensdk.brain_observatory.stimulus_info as stim_info\n",
    "\n",
    "# # pick one of the cux2 experiment containers\n",
    "# cux2_ec_id = cux2_ecs[-1]['id']\n",
    "\n",
    "# # Find the experiment with the static static gratings stimulus\n",
    "# exp = boc.get_ophys_experiments(experiment_container_ids=[cux2_ec_id], \n",
    "#                                 stimuli=[stim_info.STATIC_GRATINGS])[0]\n",
    "# print(\"Experiment with static gratings:\")\n",
    "# pprint.pprint(exp)"
   ]
  },
  {
   "cell_type": "markdown",
   "metadata": {},
   "source": [
    "Now we can download the NWB file for this experiment."
   ]
  },
  {
   "cell_type": "code",
   "execution_count": 5,
   "metadata": {},
   "outputs": [
    {
     "data": {
      "text/plain": [
       "336"
      ]
     },
     "execution_count": 5,
     "metadata": {},
     "output_type": "execute_result"
    }
   ],
   "source": [
    "exps = get_exps(boc, cre_lines=cre_lines_to_use, targeted_structures=None, session_types=['three_session_B'])\n",
    "len(exps)\n"
   ]
  },
  {
   "cell_type": "code",
   "execution_count": 27,
   "metadata": {},
   "outputs": [
    {
     "data": {
      "text/plain": [
       "214"
      ]
     },
     "execution_count": 27,
     "metadata": {},
     "output_type": "execute_result"
    }
   ],
   "source": [
    "data_set = boc.get_ophys_experiment_data(exps[19]['id'])\n",
    "cids = data_set.get_cell_specimen_ids()\n",
    "len(cids)"
   ]
  },
  {
   "cell_type": "code",
   "execution_count": 6,
   "metadata": {},
   "outputs": [],
   "source": [
    "pre = 15\n",
    "post = 7\n",
    "dataset = prep_dataset(boc, exps[22:23], pre, post, data_type='dff')"
   ]
  },
  {
   "cell_type": "code",
   "execution_count": null,
   "metadata": {},
   "outputs": [],
   "source": [
    "data2plot = 100000\n",
    "ax = plot_traces(dataset['model_input'][data2plot].numpy(), np.arange(45), input_type='pca', figsize=(2,10))\n",
    "ax.set_title(f\"image#{dataset['model_labels'][data2plot].numpy()}\")\n",
    "ax.axvline(x = 30, color = 'r', linestyle = '--')"
   ]
  },
  {
   "cell_type": "markdown",
   "metadata": {},
   "source": [
    "test code for training"
   ]
  },
  {
   "cell_type": "code",
   "execution_count": 68,
   "metadata": {},
   "outputs": [],
   "source": [
    "rand_idx = np.random.permutation(len(dataset['model_input']))\n",
    "num_training_sample = int(len(dataset['model_input'])*0.7)\n",
    "train_idx = rand_idx[:num_training_sample]\n",
    "test_idx = rand_idx[num_training_sample:]\n",
    "train_dataset = {'model_input' :[dataset['model_input'][i] for i in train_idx],\n",
    "                    'model_labels':[dataset['model_labels'][i] for i in train_idx]\n",
    "                }\n",
    "test_dataset = {'model_input' :[dataset['model_input'][i] for i in test_idx],\n",
    "                    'model_labels':[dataset['model_labels'][i] for i in test_idx]\n",
    "                }"
   ]
  },
  {
   "cell_type": "code",
   "execution_count": 67,
   "metadata": {},
   "outputs": [
    {
     "name": "stdout",
     "output_type": "stream",
     "text": [
      "1987300\n",
      "1391110\n",
      "596190\n"
     ]
    }
   ],
   "source": [
    "print(len(rand_idx))\n",
    "print(len(train_idx))\n",
    "print(len(test_idx))"
   ]
  },
  {
   "cell_type": "code",
   "execution_count": 70,
   "metadata": {},
   "outputs": [
    {
     "data": {
      "text/plain": [
       "array([  0,   1,   2,   3,   4,   5,   6,   7,   8,   9,  10,  11,  12,\n",
       "        13,  14,  15,  16,  17,  18,  19,  20,  21,  22,  23,  24,  25,\n",
       "        26,  27,  28,  29,  30,  31,  32,  33,  34,  35,  36,  37,  38,\n",
       "        39,  40,  41,  42,  43,  44,  45,  46,  47,  48,  49,  50,  51,\n",
       "        52,  53,  54,  55,  56,  57,  58,  59,  60,  61,  62,  63,  64,\n",
       "        65,  66,  67,  68,  69,  70,  71,  72,  73,  74,  75,  76,  77,\n",
       "        78,  79,  80,  81,  82,  83,  84,  85,  86,  87,  88,  89,  90,\n",
       "        91,  92,  93,  94,  95,  96,  97,  98,  99, 100, 101, 102, 103,\n",
       "       104, 105, 106, 107, 108, 109, 110, 111, 112, 113, 114, 115, 116,\n",
       "       117, 118, 119, 120, 121, 122, 123, 124, 125, 126, 127])"
      ]
     },
     "execution_count": 70,
     "metadata": {},
     "output_type": "execute_result"
    }
   ],
   "source": [
    "batch_idx = np.arange(0, 128)\n",
    "batch_idx"
   ]
  },
  {
   "cell_type": "code",
   "execution_count": 75,
   "metadata": {},
   "outputs": [
    {
     "data": {
      "text/plain": [
       "torch.Size([128, 45, 50])"
      ]
     },
     "execution_count": 75,
     "metadata": {},
     "output_type": "execute_result"
    }
   ],
   "source": [
    "batch_X = [train_dataset['model_input'][i].T for i in batch_idx]\n",
    "batch_X = torch.stack(batch_X)\n",
    "batch_X.shape"
   ]
  },
  {
   "cell_type": "code",
   "execution_count": 80,
   "metadata": {},
   "outputs": [
    {
     "data": {
      "text/plain": [
       "torch.Size([128])"
      ]
     },
     "execution_count": 80,
     "metadata": {},
     "output_type": "execute_result"
    }
   ],
   "source": [
    "batch_Y = [train_dataset['model_labels'][i] for i in batch_idx]\n",
    "batch_Y = torch.stack(batch_Y)\n",
    "batch_Y.shape"
   ]
  },
  {
   "cell_type": "code",
   "execution_count": 30,
   "metadata": {},
   "outputs": [
    {
     "data": {
      "text/plain": [
       "[5392,\n",
       " 280,\n",
       " 2858,\n",
       " 4998,\n",
       " 2488,\n",
       " 544,\n",
       " 2658,\n",
       " 2992,\n",
       " 3287,\n",
       " 2665,\n",
       " 5464,\n",
       " 2447,\n",
       " 5117,\n",
       " 1199,\n",
       " 179,\n",
       " 4683,\n",
       " 5048,\n",
       " 5072,\n",
       " 2750,\n",
       " 4756,\n",
       " 431,\n",
       " 3397,\n",
       " 2035,\n",
       " 875,\n",
       " 2408,\n",
       " 80,\n",
       " 2253,\n",
       " 658,\n",
       " 4391,\n",
       " 2309,\n",
       " 2297,\n",
       " 4121,\n",
       " 2008,\n",
       " 4337,\n",
       " 4389,\n",
       " 5081,\n",
       " 3817,\n",
       " 2329,\n",
       " 2730,\n",
       " 3309,\n",
       " 5128,\n",
       " 3948,\n",
       " 2264,\n",
       " 3244,\n",
       " 5848,\n",
       " 4533,\n",
       " 830,\n",
       " 4504,\n",
       " 4124,\n",
       " 4157,\n",
       " 5186,\n",
       " 4882,\n",
       " 2756,\n",
       " 3005,\n",
       " 5316,\n",
       " 5288,\n",
       " 331,\n",
       " 5523,\n",
       " 4764,\n",
       " 953,\n",
       " 5537,\n",
       " 2726,\n",
       " 3158,\n",
       " 5263,\n",
       " 3088,\n",
       " 702,\n",
       " 99,\n",
       " 1916,\n",
       " 5106,\n",
       " 2117,\n",
       " 4418,\n",
       " 475,\n",
       " 1985,\n",
       " 3688,\n",
       " 5627,\n",
       " 3809,\n",
       " 4687,\n",
       " 5582,\n",
       " 5353,\n",
       " 5269,\n",
       " 3293,\n",
       " 4572,\n",
       " 4352,\n",
       " 3728,\n",
       " 423,\n",
       " 3349,\n",
       " 180,\n",
       " 5645,\n",
       " 5690,\n",
       " 3146,\n",
       " 5152,\n",
       " 3659,\n",
       " 5708,\n",
       " 5891,\n",
       " 5376,\n",
       " 1164,\n",
       " 3667,\n",
       " 2273,\n",
       " 1318,\n",
       " 2721,\n",
       " 1952,\n",
       " 4090,\n",
       " 5404,\n",
       " 4586,\n",
       " 3665,\n",
       " 1454,\n",
       " 977,\n",
       " 92,\n",
       " 865,\n",
       " 3872,\n",
       " 5548,\n",
       " 2531,\n",
       " 1444,\n",
       " 3978,\n",
       " 5677,\n",
       " 3803,\n",
       " 2416,\n",
       " 2023,\n",
       " 3780,\n",
       " 1370,\n",
       " 2170,\n",
       " 3868,\n",
       " 654,\n",
       " 3105,\n",
       " 4505,\n",
       " 5362,\n",
       " 3595,\n",
       " 4943]"
      ]
     },
     "execution_count": 30,
     "metadata": {},
     "output_type": "execute_result"
    }
   ],
   "source": [
    "batch_idx = random.sample(list(range(5950)), 128)\n",
    "batch_idx"
   ]
  }
 ],
 "metadata": {
  "kernelspec": {
   "display_name": "Python 3",
   "language": "python",
   "name": "python3"
  },
  "language_info": {
   "codemirror_mode": {
    "name": "ipython",
    "version": 3
   },
   "file_extension": ".py",
   "mimetype": "text/x-python",
   "name": "python",
   "nbconvert_exporter": "python",
   "pygments_lexer": "ipython3",
   "version": "3.10.12"
  },
  "orig_nbformat": 4
 },
 "nbformat": 4,
 "nbformat_minor": 2
}
